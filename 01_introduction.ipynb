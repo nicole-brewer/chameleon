{
 "cells": [
  {
   "cell_type": "markdown",
   "id": "254b2691-a2ca-4ba9-9bf3-e1b768992cbf",
   "metadata": {
    "tags": []
   },
   "source": [
    "# Deploying a Jupyter Notebook Server with OpenStack\n",
    "\n",
    "Before we get into the weeds, it is worth taking a step back and consider our end goal. Let's start with the high level. Our goal is to use an OpenStack tool called Blazar to deploy a single JupyterLab server on a single compute node. That's a mouthful though, so let's break that down. "
   ]
  },
  {
   "cell_type": "markdown",
   "id": "513696b0-7a61-4c5f-9f76-f7453dcca736",
   "metadata": {},
   "source": [
    "## What is OpenStack?\n",
    "\n",
    "OpenStack is an open-source cloud computing platform that enables the deployment and management of large pools of compute, storage, and networking resources. We will use OpenStack to provision the compute resources on which we will deploy our JupyterLab server. We chose to use OpenStack for this tutorial because it is a widely-used tool in research computing. "
   ]
  },
  {
   "cell_type": "markdown",
   "id": "688bf0dc-350e-421c-840f-b40be51474d2",
   "metadata": {
    "jp-MarkdownHeadingCollapsed": true,
    "tags": []
   },
   "source": [
    "## Deploying Jupyter Notebooks\n",
    "\n",
    "When considering the deployment of Jupyter environments, it's important to distinguish between a single Jupyter Notebook or JupyterLab server and a JupyterHub instance.\n",
    "\n",
    "**Jupyter Notebook/JupyterLab**: These are intended for individual users or small groups. They provide an interactive environment for data analysis, visualization, and coding. A single server can comfortably support one user or a few users working sequentially.\n",
    "\n",
    "**JupyterHub**: This is designed for multiple users. JupyterHub allows multiple users to access their own Jupyter Notebook servers, making it suitable for classrooms, labs, and larger collaborative environments. It requires more complex resource management to handle concurrent users efficiently.\n",
    "\n",
    "## Scope of this Tutorial\n",
    "In this tutorial, we don't expect many users at once. **Our goal is to deploy a single JupyterLab instance on a single compute node**. While this can be done through the OpenStack interface, this tutorial will cover creating a reusable recipe for reserving resources **using Blazar**.\n",
    "\n",
    "For multi-user environments, like JupyterHub, orchestrating dynamically allocated resources using OpenStack's Heat might be more appropriate. Heat is another automation tool to dynamically deploy, scale, and manage resources in accordance with traffic from many concurrent users."
   ]
  }
 ],
 "metadata": {
  "kernelspec": {
   "display_name": "Python 3 (ipykernel)",
   "language": "python",
   "name": "python3"
  },
  "language_info": {
   "codemirror_mode": {
    "name": "ipython",
    "version": 3
   },
   "file_extension": ".py",
   "mimetype": "text/x-python",
   "name": "python",
   "nbconvert_exporter": "python",
   "pygments_lexer": "ipython3",
   "version": "3.10.9"
  }
 },
 "nbformat": 4,
 "nbformat_minor": 5
}
